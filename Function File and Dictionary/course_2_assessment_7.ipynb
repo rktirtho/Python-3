{
 "cells": [
  {
   "cell_type": "markdown",
   "metadata": {},
   "source": [
    "Create a function called mult that has two parameters, the first is required and should be an integer, the second is an optional parameter that can either be a number or a string but whose default is 6. The function should return the first parameter multiplied by the second."
   ]
  },
  {
   "cell_type": "code",
   "execution_count": 1,
   "metadata": {},
   "outputs": [],
   "source": [
    "def mult(x , y=6):\n",
    "    m_y =0\n",
    "    if type(y) == 'str':\n",
    "        m_y =  int(y)\n",
    "    return x*y"
   ]
  },
  {
   "cell_type": "markdown",
   "metadata": {},
   "source": [
    "The following function, greeting, does not work. Please fix the code so that it runs without error. This only requires one change in the definition of the function."
   ]
  },
  {
   "cell_type": "code",
   "execution_count": 3,
   "metadata": {},
   "outputs": [
    {
     "name": "stdout",
     "output_type": "stream",
     "text": [
      "Hello Bob!\n",
      "Hello !\n",
      "Hello Bob!!!\n"
     ]
    }
   ],
   "source": [
    "def greeting(name, greeting=\"Hello \", excl=\"!\"):\n",
    "    return greeting + name + excl\n",
    "\n",
    "print(greeting(\"Bob\"))\n",
    "print(greeting(\"\"))\n",
    "print(greeting(\"Bob\", excl=\"!!!\"))\n"
   ]
  },
  {
   "cell_type": "code",
   "execution_count": null,
   "metadata": {},
   "outputs": [],
   "source": []
  }
 ],
 "metadata": {
  "kernelspec": {
   "display_name": "Python 3",
   "language": "python",
   "name": "python3"
  },
  "language_info": {
   "codemirror_mode": {
    "name": "ipython",
    "version": 3
   },
   "file_extension": ".py",
   "mimetype": "text/x-python",
   "name": "python",
   "nbconvert_exporter": "python",
   "pygments_lexer": "ipython3",
   "version": "3.8.3"
  }
 },
 "nbformat": 4,
 "nbformat_minor": 4
}
