{
 "cells": [
  {
   "cell_type": "markdown",
   "metadata": {},
   "source": [
    "# Assesment 1"
   ]
  },
  {
   "cell_type": "markdown",
   "metadata": {},
   "source": [
    "## Question 1\n",
    "\n",
    "Define a class called Bike that accepts a string and a float as input, and assigns those inputs respectively to two instance variables, color and price. Assign to the variable testOne an instance of Bike whose color is blue and whose price is 89.99. Assign to the variable testTwo an instance of Bike whose color is purple and whose price is 25.0."
   ]
  },
  {
   "cell_type": "code",
   "execution_count": 1,
   "metadata": {},
   "outputs": [],
   "source": [
    "class Bike ():\n",
    "    def __init__(self, color, price):\n",
    "        self.color = color\n",
    "        self.price = price\n",
    "\n",
    "\n",
    "testOne = Bike('blue', 89.99)\n",
    "testTwo =  Bike('purple', 25.0)"
   ]
  },
  {
   "cell_type": "markdown",
   "metadata": {},
   "source": [
    "## Question 2"
   ]
  },
  {
   "cell_type": "code",
   "execution_count": 2,
   "metadata": {},
   "outputs": [],
   "source": [
    "\n",
    "class AppleBasket():\n",
    "    def __init__(self, color, quantity):\n",
    "        self.apple_color =  color\n",
    "        self.apple_quantity = quantity\n",
    "    def increase(self):\n",
    "        self.apple_quantity +=1\n",
    "    \n",
    "    def __str__ ( self):\n",
    "        return 'A basket of {} {} apples.'.format(self.apple_quantity,self.apple_color)\n",
    "        \n"
   ]
  },
  {
   "cell_type": "code",
   "execution_count": null,
   "metadata": {},
   "outputs": [],
   "source": []
  },
  {
   "cell_type": "code",
   "execution_count": 5,
   "metadata": {},
   "outputs": [],
   "source": [
    "class BankAccount:\n",
    "    def __init__ (self, name, amt):\n",
    "        self.name= name\n",
    "        self.amt =  amt\n",
    "    def __str__ (self):\n",
    "        return \"Your account, {}, has {} dollars.\".format(self.name, self.amt)\n",
    "    \n",
    "t1 = BankAccount(\"Bob\", 100)"
   ]
  },
  {
   "cell_type": "code",
   "execution_count": null,
   "metadata": {},
   "outputs": [],
   "source": []
  }
 ],
 "metadata": {
  "kernelspec": {
   "display_name": "Python 3",
   "language": "python",
   "name": "python3"
  },
  "language_info": {
   "codemirror_mode": {
    "name": "ipython",
    "version": 3
   },
   "file_extension": ".py",
   "mimetype": "text/x-python",
   "name": "python",
   "nbconvert_exporter": "python",
   "pygments_lexer": "ipython3",
   "version": "3.8.3"
  }
 },
 "nbformat": 4,
 "nbformat_minor": 4
}
