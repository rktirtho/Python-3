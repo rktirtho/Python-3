{
 "cells": [
  {
   "cell_type": "markdown",
   "metadata": {},
   "source": [
    "## Release the Kraken!"
   ]
  },
  {
   "cell_type": "code",
   "execution_count": 2,
   "metadata": {},
   "outputs": [
    {
     "ename": "ModuleNotFoundError",
     "evalue": "No module named 'kraken'",
     "output_type": "error",
     "traceback": [
      "\u001b[0;31m---------------------------------------------------------------------------\u001b[0m",
      "\u001b[0;31mModuleNotFoundError\u001b[0m                       Traceback (most recent call last)",
      "\u001b[0;32m<ipython-input-2-bef35b3b2ae4>\u001b[0m in \u001b[0;36m<module>\u001b[0;34m\u001b[0m\n\u001b[0;32m----> 1\u001b[0;31m \u001b[0;32mimport\u001b[0m \u001b[0mkraken\u001b[0m\u001b[0;34m\u001b[0m\u001b[0;34m\u001b[0m\u001b[0m\n\u001b[0m",
      "\u001b[0;31mModuleNotFoundError\u001b[0m: No module named 'kraken'"
     ]
    }
   ],
   "source": [
    "import kraken"
   ]
  },
  {
   "cell_type": "code",
   "execution_count": null,
   "metadata": {},
   "outputs": [],
   "source": [
    "from kraken import pageseg\n",
    "help(pageseg)"
   ]
  },
  {
   "cell_type": "code",
   "execution_count": null,
   "metadata": {},
   "outputs": [],
   "source": [
    "from PIL import Image\n",
    "im=Image.open(\"readonly/two_col.png\")\n",
    "display(im)\n",
    "# Lets now convert it to black and white and segment it up into lines with kraken\n",
    "bounding_boxes=pageseg.segment(im.convert('1'))['boxes']\n",
    "# And lets print those lines to the screen\n",
    "print(bounding_boxes)"
   ]
  },
  {
   "cell_type": "code",
   "execution_count": null,
   "metadata": {},
   "outputs": [],
   "source": [
    "def show_boxes(img):\n",
    "    '''Modifies the passed image to show a series of bounding boxes on an image as run by kraken\n",
    "    \n",
    "    :param img: A PIL.Image object\n",
    "    :return img: The modified PIL.Image object\n",
    "    '''\n",
    "    # Lets bring in our ImageDraw object\n",
    "    from PIL import ImageDraw\n",
    "    # And grab a drawing object to annotate that image\n",
    "    drawing_object=ImageDraw.Draw(img)\n",
    "    # We can create a set of boxes using pageseg.segment\n",
    "    bounding_boxes=pageseg.segment(img.convert('1'))['boxes']\n",
    "    # Now lets go through the list of bounding boxes\n",
    "    for box in bounding_boxes:\n",
    "        # An just draw a nice rectangle\n",
    "        drawing_object.rectangle(box, fill = None, outline ='red')\n",
    "    # And to make it easy, lets return the image object\n",
    "    return img\n",
    "\n",
    "# To test this, lets use display\n",
    "display(show_boxes(Image.open(\"images/news-text.png\")))"
   ]
  },
  {
   "cell_type": "code",
   "execution_count": null,
   "metadata": {},
   "outputs": [],
   "source": [
    "char_width=25\n",
    "# The height is harder, since it depends on the height of the text. I'm going to write a routine\n",
    "# to calculate the average height of a line\n",
    "def calculate_line_height(img):\n",
    "    '''Calculates the average height of a line from a given image\n",
    "    :param img: A PIL.Image object\n",
    "    :return: The average line height in pixels\n",
    "    '''\n",
    "    # Lets get a list of bounding boxes for this image\n",
    "    bounding_boxes=pageseg.segment(img.convert('1'))['boxes']\n",
    "    # Each box is a tuple of (top, left, bottom, right) so the height is just top - bottom\n",
    "    # So lets just calculate this over the set of all boxes\n",
    "    height_accumulator=0\n",
    "    for box in bounding_boxes:\n",
    "        height_accumulator=height_accumulator+box[3]-box[1]\n",
    "        # this is a bit tricky, remember that we start counting at the upper left corner in PIL!\n",
    "    # now lets just return the average height\n",
    "    # lets change it to the nearest full pixel by making it an integer\n",
    "    return int(height_accumulator/len(bounding_boxes))\n",
    "\n",
    "# And lets test this with the image with have been using\n",
    "line_height=calculate_line_height(Image.open(\"readonly/two_col.png\"))\n",
    "print(line_height)"
   ]
  },
  {
   "cell_type": "code",
   "execution_count": null,
   "metadata": {},
   "outputs": [],
   "source": [
    "gap_box=(0,0,char_width,line_height*6)\n",
    "gap_box"
   ]
  },
  {
   "cell_type": "code",
   "execution_count": null,
   "metadata": {},
   "outputs": [],
   "source": [
    "def gap_check(img, location):\n",
    "    '''Checks the img in a given (x,y) location to see if it fits the description\n",
    "    of a gap_box\n",
    "    :param img: A PIL.Image file\n",
    "    :param location: A tuple (x,y) which is a pixel location in that image\n",
    "    :return: True if that fits the definition of a gap_box, otherwise False\n",
    "    '''\n",
    "    \n",
    "    for x in range(location[0], location[0]+gap_box[2]):\n",
    "        # the height is similar, so lets iterate a y variable to gap_box[3]\n",
    "        for y in range(location[1], location[1]+gap_box[3]):\n",
    "            # we want to check if the pixel is white, but only if we are still within the image\n",
    "            if x < img.width and y < img.height:\n",
    "                # if the pixel is white we don't do anything, if it's black, we just want to\n",
    "                # finish and return False\n",
    "                if img.getpixel((x,y)) != 255:\n",
    "                    return False\n",
    "    # If we have managed to walk all through the gap_box without finding any non-white pixels\n",
    "    # then we can return true -- this is a gap!\n",
    "    return True"
   ]
  },
  {
   "cell_type": "code",
   "execution_count": null,
   "metadata": {},
   "outputs": [],
   "source": [
    "def draw_sep(img,location):\n",
    "    '''Draws a line in img in the middle of the gap discovered at location. Note that\n",
    "    this doesn't draw the line in location, but draws it at the middle of a gap_box\n",
    "    starting at location.\n",
    "    :param img: A PIL.Image file\n",
    "    :param location: A tuple(x,y) which is a pixel location in the image\n",
    "    '''\n",
    "    # First lets bring in all of our drawing code\n",
    "    from PIL import ImageDraw\n",
    "    drawing_object=ImageDraw.Draw(img)\n",
    "    # next, lets decide what the middle means in terms of coordinates in the image\n",
    "    x1=location[0]+int(gap_box[2]/2)\n",
    "    # and our x2 is just the same thing, since this is a one pixel vertical line\n",
    "    x2=x1\n",
    "    # our starting y coordinate is just the y coordinate which was passed in, the top of the box\n",
    "    y1=location[1]\n",
    "    # but we want our final y coordinate to be the bottom of the box\n",
    "    y2=y1+gap_box[3]\n",
    "    drawing_object.rectangle((x1,y1,x2,y2), fill = 'black', outline ='black')\n",
    "    # and we don't have anything we need to return from this, because we modified the image"
   ]
  },
  {
   "cell_type": "code",
   "execution_count": null,
   "metadata": {},
   "outputs": [],
   "source": [
    "def process_image(img):\n",
    "    '''Takes in an image of text and adds black vertical bars to break up columns\n",
    "    :param img: A PIL.Image file\n",
    "    :return: A modified PIL.Image file\n",
    "    '''\n",
    "    # we'll start with a familiar iteration process\n",
    "    for x in range(img.width):\n",
    "        for y in range(img.height):\n",
    "            # check if there is a gap at this point\n",
    "            if (gap_check(img, (x,y))):\n",
    "                # then update image to one which has a separator drawn on it\n",
    "                draw_sep(img, (x,y))\n",
    "    # and for good measure we'll return the image we modified\n",
    "    return img\n",
    "\n",
    "# Lets read in our test image and convert it through binarization\n",
    "i=Image.open(\"readonly/two_col.png\").convert(\"L\")\n",
    "i=process_image(i)\n",
    "display(i)"
   ]
  }
 ],
 "metadata": {
  "kernelspec": {
   "display_name": "Python 3",
   "language": "python",
   "name": "python3"
  },
  "language_info": {
   "codemirror_mode": {
    "name": "ipython",
    "version": 3
   },
   "file_extension": ".py",
   "mimetype": "text/x-python",
   "name": "python",
   "nbconvert_exporter": "python",
   "pygments_lexer": "ipython3",
   "version": "3.8.3"
  }
 },
 "nbformat": 4,
 "nbformat_minor": 4
}
