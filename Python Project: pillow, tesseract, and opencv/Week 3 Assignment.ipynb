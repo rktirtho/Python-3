{
 "cells": [
  {
   "cell_type": "markdown",
   "metadata": {},
   "source": [
    "# The Project #\n",
    "1. This is a project with minimal scaffolding. Expect to use the the discussion forums to gain insights! It’s not cheating to ask others for opinions or perspectives!\n",
    "2. Be inquisitive, try out new things.\n",
    "3. Use the previous modules for insights into how to complete the functions! You'll have to combine Pillow, OpenCV, and Pytesseract\n",
    "4. There are hints provided in Coursera, feel free to explore the hints if needed. Each hint provide progressively more details on how to solve the issue. This project is intended to be comprehensive and difficult if you do it without the hints.\n",
    "\n",
    "### The Assignment ###\n",
    "Take a [ZIP file](https://en.wikipedia.org/wiki/Zip_(file_format)) of images and process them, using a [library built into python](https://docs.python.org/3/library/zipfile.html) that you need to learn how to use. A ZIP file takes several different files and compresses them, thus saving space, into one single file. The files in the ZIP file we provide are newspaper images (like you saw in week 3). Your task is to write python code which allows one to search through the images looking for the occurrences of keywords and faces. E.g. if you search for \"pizza\" it will return a contact sheet of all of the faces which were located on the newspaper page which mentions \"pizza\". This will test your ability to learn a new ([library](https://docs.python.org/3/library/zipfile.html)), your ability to use OpenCV to detect faces, your ability to use tesseract to do optical character recognition, and your ability to use PIL to composite images together into contact sheets.\n",
    "\n",
    "Each page of the newspapers is saved as a single PNG image in a file called [images.zip](./readonly/images.zip). These newspapers are in english, and contain a variety of stories, advertisements and images. Note: This file is fairly large (~200 MB) and may take some time to work with, I would encourage you to use [small_img.zip](./readonly/small_img.zip) for testing.\n",
    "\n",
    "Here's an example of the output expected. Using the [small_img.zip](./readonly/small_img.zip) file, if I search for the string \"Christopher\" I should see the following image:\n",
    "![Christopher Search](./readonly/small_project.png)\n",
    "If I were to use the [images.zip](./readonly/images.zip) file and search for \"Mark\" I should see the following image (note that there are times when there are no faces on a page, but a word is found!):\n",
    "![Mark Search](./readonly/large_project.png)\n",
    "\n",
    "Note: That big file can take some time to process - for me it took nearly ten minutes! Use the small one for testing."
   ]
  },
  {
   "cell_type": "code",
   "execution_count": 3,
   "metadata": {},
   "outputs": [],
   "source": [
    "import zipfile\n",
    "from PIL import Image\n",
    "from PIL import ImageDraw\n",
    "import pytesseract\n",
    "import cv2 as cv\n",
    "import numpy as np\n",
    "import pytesseract\n",
    "from kraken import pageseg\n",
    "import math\n",
    "\n"
   ]
  },
  {
   "cell_type": "code",
   "execution_count": 4,
   "metadata": {},
   "outputs": [],
   "source": [
    "face_cascade = cv.CascadeClassifier('https://frrhxhlyojdndhbrnamhaz.coursera-apps.org/notebooks/readonly/haarcascade_frontalface_default.xml')"
   ]
  },
  {
   "cell_type": "code",
   "execution_count": null,
   "metadata": {},
   "outputs": [],
   "source": [
    "def zip_images_extraction(name):\n",
    "    \"\"\"\n",
    "    get all the information (name, image, text) from a zip file\n",
    "    \n",
    "    :input: the name of a zip file\n",
    "    :output: a list of dictoionaries. Each dictionary contains the all the information \n",
    "    (name, image, text) of a image object.\n",
    "    \n",
    "    \"\"\"\n",
    "    # zip name\n",
    "    zip_name = 'https://frrhxhlyojdndhbrnamhaz.coursera-apps.org/notebooks/readonly/' + name\n",
    "    \n",
    "    # output\n",
    "    out = []\n",
    "    \n",
    "    # index out all the information\n",
    "    with zipfile.ZipFile(zip_name) as myzip:\n",
    "        zip_infos = myzip.infolist()\n",
    "        \n",
    "        for ele in zip_infos:\n",
    "            # name\n",
    "            name = ele.filename\n",
    "            # image\n",
    "            img = Image.open(myzip.open(name))\n",
    "            # text\n",
    "            img_strs = pytesseract.image_to_string(img.convert('L'))\n",
    "            \n",
    "            # test if \"Christopher\" or \"Mark\" are in the text\n",
    "            if (\"Christopher\" in img_strs) or (\"Mark\" in img_strs):\n",
    "                 # example of dictionary\n",
    "                my_dic = {\"name\":name, \"img\":img, \"text\":img_strs}\n",
    "                out.append(my_dic)\n",
    "    return out"
   ]
  },
  {
   "cell_type": "code",
   "execution_count": null,
   "metadata": {},
   "outputs": [],
   "source": [
    "small_imgs = zip_images_extraction(\"small_img.zip\")\n",
    "big_imgs = zip_images_extraction(\"images.zip\")"
   ]
  },
  {
   "cell_type": "code",
   "execution_count": null,
   "metadata": {},
   "outputs": [],
   "source": [
    "def extract_faces(img, scale_factor):\n",
    "    \"\"\"\n",
    "    gray is in array form\n",
    "    \"\"\"\n",
    "    # extract the retangle of the faces\n",
    "    gray = np.array(img.convert(\"L\"))\n",
    "    faces = face_cascade.detectMultiScale(gray, scale_factor)\n",
    "    \n",
    "    # if no faces are detected\n",
    "    if (len(faces) == 0):\n",
    "        return None\n",
    "    \n",
    "    # extract faces into the list imgs\n",
    "    faces_imgs = []\n",
    "    \n",
    "    for x,y,w,h in faces:\n",
    "        faces_imgs.append(img.crop((x,y,x+w,y+h)))\n",
    "    \n",
    "    # compute nrows and ncols\n",
    "    ncols = 5\n",
    "    nrows = math.ceil(len(faces) / ncols)\n",
    "    \n",
    "    # contact sheet\n",
    "    contact_sheet=Image.new(img.mode, (550, 110*nrows))\n",
    "    x, y = (0, 0)\n",
    "    \n",
    "    for face in faces_imgs:\n",
    "        face.thumbnail((110,110))\n",
    "        contact_sheet.paste(face, (x,y))\n",
    "        \n",
    "        if x+110 == contact_sheet.width:\n",
    "            x = 0\n",
    "            y += 110\n",
    "        else:\n",
    "            x += 110\n",
    "            \n",
    "    return contact_sheet\n"
   ]
  },
  {
   "cell_type": "code",
   "execution_count": null,
   "metadata": {},
   "outputs": [],
   "source": [
    "def value_search(value, zip_name, scale_factor):\n",
    "    if zip_name == \"small_img.zip\":\n",
    "        ref_imgs = small_imgs\n",
    "    else:\n",
    "        ref_imgs = big_imgs\n",
    "    \n",
    "    for ele in ref_imgs:\n",
    "        # test if value is in the text\n",
    "        if value in ele[\"text\"]:\n",
    "            # print out the name of the figure\n",
    "            print(\"Results found in file {}\".format(ele[\"name\"]))\n",
    "        \n",
    "            # index out the faces\n",
    "            img = ele[\"img\"]\n",
    "            contact_sheet = extract_faces(img, scale_factor)\n",
    "            if contact_sheet is not None:\n",
    "                display(contact_sheet)\n",
    "            else:\n",
    "                print(\"But there were no faces in that file\")"
   ]
  },
  {
   "cell_type": "code",
   "execution_count": null,
   "metadata": {},
   "outputs": [],
   "source": [
    "value = \"Christopher\"\n",
    "zip_name = \"small_img.zip\"\n",
    "\n",
    "value_search(value, zip_name, scale_factor = 1.4)"
   ]
  },
  {
   "cell_type": "code",
   "execution_count": null,
   "metadata": {},
   "outputs": [],
   "source": [
    "\n",
    "\n",
    "# reproduce the search for \"Christopher\"\n",
    "value = \"Mark\"\n",
    "zip_name = \"images.zip\"\n",
    "\n",
    "value_search(value, zip_name, scale_factor = 1.5)\n",
    "\n"
   ]
  }
 ],
 "metadata": {
  "kernelspec": {
   "display_name": "Python 3",
   "language": "python",
   "name": "python3"
  },
  "language_info": {
   "codemirror_mode": {
    "name": "ipython",
    "version": 3
   },
   "file_extension": ".py",
   "mimetype": "text/x-python",
   "name": "python",
   "nbconvert_exporter": "python",
   "pygments_lexer": "ipython3",
   "version": "3.8.3"
  }
 },
 "nbformat": 4,
 "nbformat_minor": 4
}
