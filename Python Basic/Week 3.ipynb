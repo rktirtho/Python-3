{
 "cells": [
  {
   "cell_type": "markdown",
   "metadata": {},
   "source": [
    "# Function on Python"
   ]
  },
  {
   "cell_type": "code",
   "execution_count": 1,
   "metadata": {},
   "outputs": [
    {
     "name": "stdout",
     "output_type": "stream",
     "text": [
      "505\n"
     ]
    }
   ],
   "source": [
    "# Here 'dif' is the signature of function. It has two parameters and return the summation of a and b\n",
    "def add(a,b):\n",
    "    return a+b\n",
    "print(add(498,7))"
   ]
  },
  {
   "cell_type": "markdown",
   "metadata": {},
   "source": [
    "## Condition"
   ]
  },
  {
   "cell_type": "code",
   "execution_count": 3,
   "metadata": {},
   "outputs": [
    {
     "name": "stdout",
     "output_type": "stream",
     "text": [
      "A is largest number\n"
     ]
    }
   ],
   "source": [
    "a =70\n",
    "b=40\n",
    "\n",
    "if a > b:\n",
    "    print(\"A is largest number\")\n",
    "else:\n",
    "    print(\"B is Lergest\")"
   ]
  },
  {
   "cell_type": "markdown",
   "metadata": {},
   "source": [
    "## Nested condition"
   ]
  },
  {
   "cell_type": "code",
   "execution_count": 8,
   "metadata": {},
   "outputs": [],
   "source": [
    "## Find out leargest number among 3 numbers\n",
    "\n",
    "a,b,c = 78,145,79\n"
   ]
  },
  {
   "cell_type": "code",
   "execution_count": 10,
   "metadata": {},
   "outputs": [
    {
     "name": "stdout",
     "output_type": "stream",
     "text": [
      "B is leargest\n"
     ]
    }
   ],
   "source": [
    "if a>b:\n",
    "    if a>c:\n",
    "        print(\"A is Leargest\")\n",
    "    else:\n",
    "        print('C is leargest')\n",
    "elif b>a:\n",
    "    if b>c:\n",
    "        print('B is leargest')\n",
    "    else:\n",
    "        print('C is leargest')\n",
    "else:\n",
    "    print('C is leargest')\n",
    "    "
   ]
  },
  {
   "cell_type": "code",
   "execution_count": 11,
   "metadata": {},
   "outputs": [],
   "source": [
    "loged = True\n",
    "\n",
    "status =  'User login' if loged else \"Required login\""
   ]
  },
  {
   "cell_type": "code",
   "execution_count": 12,
   "metadata": {},
   "outputs": [
    {
     "data": {
      "text/plain": [
       "'User login'"
      ]
     },
     "execution_count": 12,
     "metadata": {},
     "output_type": "execute_result"
    }
   ],
   "source": [
    "status"
   ]
  },
  {
   "cell_type": "markdown",
   "metadata": {},
   "source": [
    "## Loop in Python"
   ]
  },
  {
   "cell_type": "code",
   "execution_count": 13,
   "metadata": {},
   "outputs": [
    {
     "name": "stdout",
     "output_type": "stream",
     "text": [
      "0\n",
      "1\n",
      "2\n",
      "3\n",
      "4\n",
      "5\n",
      "6\n",
      "7\n",
      "8\n",
      "9\n"
     ]
    }
   ],
   "source": [
    "for i in range(10):\n",
    "    print(i)"
   ]
  },
  {
   "cell_type": "code",
   "execution_count": 15,
   "metadata": {},
   "outputs": [
    {
     "name": "stdout",
     "output_type": "stream",
     "text": [
      "Start Point1\n",
      "End Point5\n",
      "1\n",
      "2\n",
      "3\n",
      "4\n"
     ]
    }
   ],
   "source": [
    "start_point =  int(input('Start Point'))\n",
    "end_point =  int(input('End Point'))\n",
    "for i in range(start_point,end_point):\n",
    "    print(i)"
   ]
  },
  {
   "cell_type": "code",
   "execution_count": 16,
   "metadata": {},
   "outputs": [],
   "source": [
    "massage= 'Hello there I am Rejaul Karim Tirtho, learning Englist for get a batter job. I have many years programming experiance. Now I am trying to study abroad'"
   ]
  },
  {
   "cell_type": "code",
   "execution_count": 19,
   "metadata": {},
   "outputs": [],
   "source": [
    "sentences = massage.split(\".\") "
   ]
  },
  {
   "cell_type": "code",
   "execution_count": 20,
   "metadata": {},
   "outputs": [
    {
     "name": "stdout",
     "output_type": "stream",
     "text": [
      "Hello there I am Rejaul Karim Tirtho, learning Englist for get a batter job\n",
      " I have many years programming experiance\n",
      " Now I am trying to study abroad\n"
     ]
    }
   ],
   "source": [
    "for sentence in sentences:\n",
    "    print(sentence)"
   ]
  },
  {
   "cell_type": "code",
   "execution_count": 21,
   "metadata": {},
   "outputs": [
    {
     "name": "stdout",
     "output_type": "stream",
     "text": [
      "Enter Product Code5\n",
      "5\n",
      "Enter Product Code356\n",
      "356\n",
      "Enter Product Codeexit\n"
     ]
    }
   ],
   "source": [
    "command = input(\"Enter Product Code\")\n",
    "while command != 'exit':\n",
    "    print(command)\n",
    "    command = input(\"Enter Product Code\")\n"
   ]
  },
  {
   "cell_type": "code",
   "execution_count": null,
   "metadata": {},
   "outputs": [],
   "source": []
  }
 ],
 "metadata": {
  "kernelspec": {
   "display_name": "Python 3",
   "language": "python",
   "name": "python3"
  },
  "language_info": {
   "codemirror_mode": {
    "name": "ipython",
    "version": 3
   },
   "file_extension": ".py",
   "mimetype": "text/x-python",
   "name": "python",
   "nbconvert_exporter": "python",
   "pygments_lexer": "ipython3",
   "version": "3.8.3"
  }
 },
 "nbformat": 4,
 "nbformat_minor": 4
}
